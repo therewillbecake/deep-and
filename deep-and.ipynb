{
 "cells": [
  {
   "cell_type": "code",
   "execution_count": 39,
   "metadata": {},
   "outputs": [],
   "source": [
    "import numpy as np\n",
    "from keras.models import Sequential\n",
    "from keras.layers.core import Dense, Dropout, Activation\n",
    "from keras.optimizers import Adam\n",
    "from sklearn.model_selection import train_test_split\n",
    "\n",
    "# generate samples\n",
    "n_samples = 10000\n",
    "x = np.random.randint(2, size=(n_samples, 2))\n",
    "y = np.all(x, axis=1, keepdims=True)\n",
    "\n",
    "# train/validation split\n",
    "x_train, x_test, y_train, y_test = train_test_split(x, y, test_size=0.2)\n"
   ]
  },
  {
   "cell_type": "code",
   "execution_count": 55,
   "metadata": {},
   "outputs": [
    {
     "name": "stdout",
     "output_type": "stream",
     "text": [
      "_________________________________________________________________\n",
      "Layer (type)                 Output Shape              Param #   \n",
      "=================================================================\n",
      "dense_64 (Dense)             (None, 32)                96        \n",
      "_________________________________________________________________\n",
      "dense_65 (Dense)             (None, 32)                1056      \n",
      "_________________________________________________________________\n",
      "dense_66 (Dense)             (None, 32)                1056      \n",
      "_________________________________________________________________\n",
      "dense_67 (Dense)             (None, 32)                1056      \n",
      "_________________________________________________________________\n",
      "dense_68 (Dense)             (None, 32)                1056      \n",
      "_________________________________________________________________\n",
      "dense_69 (Dense)             (None, 32)                1056      \n",
      "_________________________________________________________________\n",
      "dense_70 (Dense)             (None, 32)                1056      \n",
      "_________________________________________________________________\n",
      "dense_71 (Dense)             (None, 1)                 33        \n",
      "=================================================================\n",
      "Total params: 6,465\n",
      "Trainable params: 6,465\n",
      "Non-trainable params: 0\n",
      "_________________________________________________________________\n",
      "None\n"
     ]
    }
   ],
   "source": [
    "# build neural net for state-of-the-art AND gating\n",
    "model = Sequential()\n",
    "model.add(Dense(32, input_dim=2, activation='relu'))\n",
    "model.add(Dense(32, activation='relu'))\n",
    "model.add(Dense(32, activation='relu')) #make it deep\n",
    "model.add(Dense(32, activation='relu'))\n",
    "model.add(Dense(32, activation='relu'))\n",
    "model.add(Dense(32, activation='relu'))\n",
    "model.add(Dense(32, activation='relu'))\n",
    "model.add(Dense(1, activation='sigmoid'))\n",
    "\n",
    "print(model.summary())"
   ]
  },
  {
   "cell_type": "code",
   "execution_count": 56,
   "metadata": {},
   "outputs": [
    {
     "name": "stdout",
     "output_type": "stream",
     "text": [
      "Train on 8000 samples, validate on 2000 samples\n",
      "Epoch 1/5\n",
      "8000/8000 [==============================] - 2s 264us/step - loss: 0.0717 - acc: 0.9696 - val_loss: 1.5147e-05 - val_acc: 1.0000\n",
      "Epoch 2/5\n",
      "8000/8000 [==============================] - 1s 130us/step - loss: 9.3183e-06 - acc: 1.0000 - val_loss: 4.7997e-06 - val_acc: 1.0000\n",
      "Epoch 3/5\n",
      "8000/8000 [==============================] - 1s 136us/step - loss: 3.1427e-06 - acc: 1.0000 - val_loss: 2.1123e-06 - val_acc: 1.0000\n",
      "Epoch 4/5\n",
      "8000/8000 [==============================] - 1s 141us/step - loss: 1.6018e-06 - acc: 1.0000 - val_loss: 1.2436e-06 - val_acc: 1.0000\n",
      "Epoch 5/5\n",
      "8000/8000 [==============================] - 1s 131us/step - loss: 1.0035e-06 - acc: 1.0000 - val_loss: 8.2586e-07 - val_acc: 1.0000\n",
      "Test loss: 8.258585971816501e-07\n",
      "Test accuracy: 1.0\n"
     ]
    }
   ],
   "source": [
    "model.compile(loss='binary_crossentropy', metrics=['accuracy'], optimizer=Adam(lr=0.002))\n",
    "\n",
    "model.fit(x_train, y_train, epochs=5, batch_size=32, verbose=1, validation_data=(x_test, y_test))\n",
    "\n",
    "score = model.evaluate(x_test, y_test, verbose=0)\n",
    "print('Test loss:', score[0])\n",
    "print('Test accuracy:', score[1])"
   ]
  },
  {
   "cell_type": "code",
   "execution_count": 57,
   "metadata": {},
   "outputs": [
    {
     "name": "stdout",
     "output_type": "stream",
     "text": [
      "[[4.883251e-08]]\n",
      "[[2.3600194e-10]]\n",
      "[[2.0472558e-07]]\n",
      "[[0.99999714]]\n"
     ]
    }
   ],
   "source": [
    "# it just works\n",
    "print(model.predict(np.array([0,0]).reshape(1,2)))\n",
    "print(model.predict(np.array([1,0]).reshape(1,2)))\n",
    "print(model.predict(np.array([0,1]).reshape(1,2)))\n",
    "print(model.predict(np.array([1,1]).reshape(1,2)))"
   ]
  }
 ],
 "metadata": {
  "kernelspec": {
   "display_name": "tf-gpu",
   "language": "python",
   "name": "tf-gpu"
  },
  "language_info": {
   "codemirror_mode": {
    "name": "ipython",
    "version": 3
   },
   "file_extension": ".py",
   "mimetype": "text/x-python",
   "name": "python",
   "nbconvert_exporter": "python",
   "pygments_lexer": "ipython3",
   "version": "3.6.6"
  }
 },
 "nbformat": 4,
 "nbformat_minor": 2
}
